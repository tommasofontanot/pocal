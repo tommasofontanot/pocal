{
  "nbformat": 4,
  "nbformat_minor": 0,
  "metadata": {
    "colab": {
      "provenance": []
    },
    "kernelspec": {
      "name": "python3",
      "display_name": "Python 3"
    },
    "language_info": {
      "name": "python"
    }
  },
  "cells": [
    {
      "cell_type": "code",
      "execution_count": null,
      "metadata": {
        "colab": {
          "base_uri": "https://localhost:8080/"
        },
        "id": "jrpqCVxMI9lJ",
        "outputId": "330dc9f2-173a-45cd-e553-c51f4c4caeb7"
      },
      "outputs": [
        {
          "output_type": "stream",
          "name": "stdout",
          "text": [
            "Looking in indexes: https://pypi.org/simple, https://us-python.pkg.dev/colab-wheels/public/simple/\n",
            "Collecting pocal\n",
            "  Downloading pocal-0.61-py3-none-any.whl (15 kB)\n",
            "Installing collected packages: pocal\n",
            "Successfully installed pocal-0.61\n"
          ]
        }
      ],
      "source": [
        "!pip install pocal"
      ]
    },
    {
      "cell_type": "code",
      "source": [
        "import pocal"
      ],
      "metadata": {
        "id": "Z0IyTn7-I-Gl"
      },
      "execution_count": 5,
      "outputs": []
    },
    {
      "cell_type": "code",
      "source": [
        "!unzip resources"
      ],
      "metadata": {
        "colab": {
          "base_uri": "https://localhost:8080/"
        },
        "id": "cpohVbMmJWS1",
        "outputId": "a2bcec92-dcfb-4db3-dcb9-97fb01b29e2e"
      },
      "execution_count": 3,
      "outputs": [
        {
          "output_type": "stream",
          "name": "stdout",
          "text": [
            "Archive:  resources.zip\n",
            "   creating: resources/\n",
            "   creating: resources/resources/\n",
            "  inflating: resources/resources/3layers.txt  \n",
            "  inflating: resources/resources/a.txt  \n",
            "  inflating: resources/resources/absorbance.png  \n",
            "  inflating: resources/resources/absorbance.txt  \n",
            "  inflating: resources/resources/c.txt  \n",
            "  inflating: resources/resources/CIE.png  \n",
            "  inflating: resources/resources/cmf1931.txt  \n",
            "  inflating: resources/resources/cmf1964.txt  \n",
            "  inflating: resources/resources/d65.txt  \n",
            "  inflating: resources/resources/e.txt  \n",
            "  inflating: resources/resources/GD_trans.png  \n",
            "  inflating: resources/resources/GD_trans.txt  \n",
            "  inflating: resources/resources/LICENSE.txt  \n",
            "  inflating: resources/resources/materialLibrary.json  \n",
            "  inflating: resources/resources/reflected_phase_shift.png  \n",
            "  inflating: resources/resources/reflected_phase_shift.txt  \n",
            "  inflating: resources/resources/target.txt  \n",
            "  inflating: resources/resources/transmittance.png  \n",
            "  inflating: resources/resources/transmittance.txt  \n"
          ]
        }
      ]
    },
    {
      "cell_type": "code",
      "source": [
        "import os\n",
        "os.chdir('resources')\n",
        "test = pocal.pocal(r'3layers.txt',40,200,1500,1,600,False,None)"
      ],
      "metadata": {
        "id": "ABgUd1vBJM3a"
      },
      "execution_count": 6,
      "outputs": []
    },
    {
      "cell_type": "code",
      "source": [
        "#test.s_polarization('reflected_phase_shift')\n",
        "#test.s_polarization('GD_trans')\n",
        "#test.s_polarization('GDD_trans')\n",
        "#test.s_polarization('absorbance')\n",
        "#test.s_polarization('reflectance',True,True) # True,True arguments for savefile or savefig\n",
        "#test.admittance()\n",
        "test.electricField()"
      ],
      "metadata": {
        "colab": {
          "base_uri": "https://localhost:8080/",
          "height": 297
        },
        "id": "3c-M0S3ZJa_9",
        "outputId": "1362fc38-e741-4462-f944-8c6613b4b3f9"
      },
      "execution_count": 7,
      "outputs": [
        {
          "output_type": "display_data",
          "data": {
            "text/plain": [
              "<Figure size 432x288 with 1 Axes>"
            ],
            "image/png": "[encoded data removed]"
          },
          "metadata": {
            "needs_background": "light"
          }
        }
      ]
    },
    {
      "cell_type": "code",
      "source": [
        "'''***************************sample script for refinement******************'''\n",
        "'''define a file target.txt with wavlengths in first column and - \n",
        "target transmittance or reflectance % in the second column'''\n",
        "test = pocal.pocal(r'3layers.txt',0,400,1500,1,600,False,'reflectance')\n",
        "test.refinement(10) # Value inside is for tolerance\n",
        "refined_test = pocal.pocal(r'C:\\Users\\u0151864\\.spyder-py3\\Material_for_the_library\\refined_prescription.txt',0,400,1500,1,600,False,None)\n",
        "refined_test.s_polarization('reflectance',True,True)\n",
        "'''*************************end of sample***********************************'''"
      ],
      "metadata": {
        "id": "hulf2MFmJcXT"
      },
      "execution_count": null,
      "outputs": []
    },
    {
      "cell_type": "code",
      "source": [],
      "metadata": {
        "id": "GlZNkGv5Jgnn"
      },
      "execution_count": null,
      "outputs": []
    }
  ]
}